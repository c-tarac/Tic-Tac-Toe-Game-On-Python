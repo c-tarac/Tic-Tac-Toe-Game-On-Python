{
 "cells":[
  {
   "cell_type": "markdown",
   "id": "fd2a2a16",
   "metadata": {},
   "source": [
    "#                                  Tic Toc Toe game"
   ]
  },
  {
   "cell_type": "markdown",
   "id": "e1b01252",
   "metadata": {},
   "source": [
    "# step 1 ----Display Board"
   ]
  },
  {
   "cell_type": "code",
   "execution_count": 1,
   "id": "3db4dcdf",
   "metadata": {},
   "outputs": [],
   "source": [
    "from IPython.display import clear_output     # it will clear all the places on the board when we re-run the game...\n",
    "\n",
    "def display_board(board):      # defining function for display board \n",
    "    clear_output()\n",
    "    print(board[7]+'|'+board[8]+'|'+board[9])\n",
    "    print('-|-|-')\n",
    "    print(board[4]+'|'+board[5]+'|'+board[6])\n",
    "    print('-|-|-')\n",
    "    print(board[1]+'|'+board[2]+'|'+board[3])\n",
    "    "
   ]
  },
  {
   "cell_type": "code",
   "execution_count": 2,
   "id": "38ff0c10",
   "metadata": {},
   "outputs": [
    {
     "name": "stdout",
     "output_type": "stream",
     "text": [
      " | | \n",
      "-|-|-\n",
      " | | \n",
      "-|-|-\n",
      " | | \n"
     ]
    }
   ],
   "source": [
    "test_board = [' ']*10\n",
    "display_board(test_board)"
   ]
  },
  {
   "cell_type": "markdown",
   "id": "b925b1da",
   "metadata": {},
   "source": [
    "# step 2 --- player input and assignin of marker"
   ]
  },
  {
   "cell_type": "code",
   "execution_count": 3,
   "id": "d933d62b",
   "metadata": {},
   "outputs": [],
   "source": [
    "def player_input():\n",
    "    \n",
    "    marker = ''\n",
    "    \n",
    "    while marker != 'X'  and marker != 'O':\n",
    "        marker = input('Player 1, choose X or O: ').upper()\n",
    "        \n",
    "        \n",
    "    player1 = marker \n",
    "    \n",
    "    \n",
    "    if player1 == 'X':\n",
    "        player2 = 'O'\n",
    "    else:\n",
    "        player2 = 'X'\n",
    "        \n",
    "        \n",
    "    return (player1,player2)\n",
    "        \n",
    "    "
   ]
  },
  {
   "cell_type": "code",
   "execution_count": 4,
   "id": "e77114d8",
   "metadata": {},
   "outputs": [
    {
     "name": "stdout",
     "output_type": "stream",
     "text": [
      "Player 1, choose X or O: \n",
      "Player 1, choose X or O: x\n"
     ]
    }
   ],
   "source": [
    "player1_marker , player2_marker = player_input()"
   ]
  },
  {
   "cell_type": "code",
   "execution_count": 5,
   "id": "3e500c33",
   "metadata": {},
   "outputs": [
    {
     "data": {
      "text/plain": [
       "'O'"
      ]
     },
     "execution_count": 5,
     "metadata": {},
     "output_type": "execute_result"
    }
   ],
   "source": [
    "player2_marker"
   ]
  },
  {
   "cell_type": "markdown",
   "id": "e5a67cc2",
   "metadata": {},
   "source": [
    "# Step 3 Write a function that takes in the board list object, a marker ('X' or 'O'), and a desired position (number 1-9) and assigns it to the board."
   ]
  },
  {
   "cell_type": "code",
   "execution_count": 6,
   "id": "27baa7e9",
   "metadata": {},
   "outputs": [],
   "source": [
    "def place_marker(board, marker, position):\n",
    "    \n",
    "    board[position]= marker\n",
    "    \n",
    "    "
   ]
  },
  {
   "cell_type": "code",
   "execution_count": 7,
   "id": "ea70352a",
   "metadata": {},
   "outputs": [
    {
     "name": "stdout",
     "output_type": "stream",
     "text": [
      " |$| \n",
      "-|-|-\n",
      " |$| \n",
      "-|-|-\n",
      " |$| \n"
     ]
    }
   ],
   "source": [
    "# testing of board \n",
    "place_marker(test_board,'$',8)\n",
    "place_marker(test_board,'$',5)\n",
    "place_marker(test_board,'$',2)\n",
    "display_board(test_board)"
   ]
  },
  {
   "cell_type": "markdown",
   "id": "93e997d1",
   "metadata": {},
   "source": [
    "# step 4 Write a function that takes in a board and a mark (X or O) and then checks to see if that mark has won."
   ]
  },
  {
   "cell_type": "code",
   "execution_count": 8,
   "id": "2356a609",
   "metadata": {},
   "outputs": [],
   "source": [
    "def win_check(board, mark):\n",
    "    \n",
    "    # win tic tac toe!\n",
    "    \n",
    "    #All rows, and check to see if they all share the same marker\n",
    "    \n",
    "    return((board[1]== mark and board[2]== mark and board[3]== mark) or\n",
    "    (board[4]== mark and board[5]== mark and board[6]== mark) or\n",
    "    (board[7]== mark and board[8]== mark and board[9]== mark) or \n",
    "          (board[1]== mark and board[4]== mark and board[7]== mark) or  # All coloums\n",
    "          (board[2]== mark and board[5]== mark and board[8]== mark) or\n",
    "          (board[3]== mark and board[6]== mark and board[9]== mark) or\n",
    "           (board[1]== mark and board[5]== mark and board[9]== mark)or #2 diagonals, check to see match\n",
    "          (board[3]== mark and board[5]== mark and board[7]== mark))\n",
    "    \n",
    "   \n",
    "    "
   ]
  },
  {
   "cell_type": "code",
   "execution_count": 9,
   "id": "d2872915",
   "metadata": {},
   "outputs": [
    {
     "name": "stdout",
     "output_type": "stream",
     "text": [
      " |$| \n",
      "-|-|-\n",
      " |$| \n",
      "-|-|-\n",
      " |$| \n"
     ]
    },
    {
     "data": {
      "text/plain": [
       "True"
      ]
     },
     "execution_count": 9,
     "metadata": {},
     "output_type": "execute_result"
    }
   ],
   "source": [
    "display_board(test_board)\n",
    "win_check(test_board,'$')"
   ]
  },
  {
   "cell_type": "markdown",
   "id": "64ec29cd",
   "metadata": {},
   "source": [
    "# step 5 Write a function that uses the random module to randomly decide which player goes first. You may want to lookup random.randint() Return a string of which player went first."
   ]
  },
  {
   "cell_type": "code",
   "execution_count": 10,
   "id": "3b6691c6",
   "metadata": {},
   "outputs": [],
   "source": [
    "import random\n",
    "\n",
    "def choose_first():\n",
    "    \n",
    "    if random.randint(0, 1) == 0:\n",
    "        return 'Player 2'\n",
    "    else:\n",
    "        return 'Player 1'\n",
    "\n",
    "    "
   ]
  },
  {
   "cell_type": "markdown",
   "id": "1603f958",
   "metadata": {},
   "source": [
    "# step 6 Write a function that returns a boolean indicating whether a space on the board is freely available."
   ]
  },
  {
   "cell_type": "code",
   "execution_count": 11,
   "id": "d4dd3bb2",
   "metadata": {},
   "outputs": [],
   "source": [
    "def space_check(board,position):\n",
    "    \n",
    "    return board[position] == ' '\n",
    "    \n",
    "    "
   ]
  },
  {
   "cell_type": "code",
   "execution_count": null,
   "id": "5f2a9ffd",
   "metadata": {},
   "outputs": [],
   "source": []
  },
  {
   "cell_type": "markdown",
   "id": "60b3cc33",
   "metadata": {},
   "source": [
    "# Step 7 Write a function that checks if the board is full and returns a boolean value. True if full, False otherwise"
   ]
  },
  {
   "cell_type": "code",
   "execution_count": 12,
   "id": "504fcfda",
   "metadata": {},
   "outputs": [],
   "source": [
    "def full_board_check(board):\n",
    "    for i in range(1,10):\n",
    "         if space_check(board,i):\n",
    "                return False\n",
    "    # Board is full       \n",
    "    return True\n",
    "    "
   ]
  },
  {
   "cell_type": "code",
   "execution_count": null,
   "id": "d11a174f",
   "metadata": {},
   "outputs": [],
   "source": []
  },
  {
   "cell_type": "markdown",
   "id": "c56bf6b4",
   "metadata": {},
   "source": [
    "# Step 8 Write a function that asks for a player's next position (as a number 1-9) and then uses the function from step 6 to check if it's a free position. If it is, then return the position for later use"
   ]
  },
  {
   "cell_type": "code",
   "execution_count": 13,
   "id": "9d7567b3",
   "metadata": {},
   "outputs": [],
   "source": [
    "def player_choice(board):\n",
    "    \n",
    "    position = 0\n",
    "    \n",
    "    while position not in [1,2,3,4,5,6,7,8,9] or not space_check(board,position):\n",
    "        position = int(input('choose a position: (1-9)'))\n",
    "        \n",
    "    return position\n",
    "    "
   ]
  },
  {
   "cell_type": "markdown",
   "id": "422305ba",
   "metadata": {},
   "source": [
    "# Step 9: Write a function that asks the player if they want to play again and returns a boolean True if they do want to play again."
   ]
  },
  {
   "cell_type": "code",
   "execution_count": 14,
   "id": "4c317392",
   "metadata": {},
   "outputs": [],
   "source": [
    "def replay():\n",
    "    \n",
    "    return input(\"Do you want to play again?\\n Enter Yes or No : \").lower().startswith('y')\n",
    "    \n",
    "   \n",
    "    \n",
    "    "
   ]
  },
  {
   "cell_type": "code",
   "execution_count": null,
   "id": "f36420d2",
   "metadata": {},
   "outputs": [],
   "source": []
  },
  {
   "cell_type": "markdown",
   "id": "1edc68de",
   "metadata": {},
   "source": [
    "# Step 10: Now combing above functions in a proper sequemne using while loop to form the game "
   ]
  },
  {
   "cell_type": "code",
   "execution_count": 15,
   "id": "b9211742",
   "metadata": {},
   "outputs": [
    {
     "name": "stdout",
     "output_type": "stream",
     "text": [
      " | |O\n",
      "-|-|-\n",
      "X|X|O\n",
      "-|-|-\n",
      "X| |O\n",
      "Player 2 Has Won!\n",
      "Do you want to play again?\n",
      " Enter Yes or No : No\n"
     ]
    }
   ],
   "source": [
    "# while loop to keep running the game \n",
    "print('Welcome to tic tac toe')\n",
    "\n",
    "while True:\n",
    "    \n",
    "    # play the game\n",
    "    \n",
    "    ## set everything up (board, whos first, choose markers x,o)\n",
    "    the_board=[' ']*10\n",
    "    player1_marker,player2_marker = player_input()\n",
    "    \n",
    "    turn= choose_first()\n",
    "    print(turn+'will go first')\n",
    "    \n",
    "    play_game = input('Ready to play? Enter yes or no? ')\n",
    "    \n",
    "    if play_game.lower()[0] == 'y':\n",
    "        game_on = True\n",
    "    else:\n",
    "        game_on = False\n",
    "        \n",
    "    ## Game play\n",
    "    while game_on:\n",
    "        \n",
    "        # player 1 turn\n",
    "        if turn == 'Player 1':\n",
    "            \n",
    "            # Show the board\n",
    "            display_board(the_board)\n",
    "            # choose a position\n",
    "            position = player_choice(the_board)\n",
    "            # place_marker on the position\n",
    "            place_marker(the_board,player1_marker,position)\n",
    "            \n",
    "            # check if they won\n",
    "            if win_check(the_board,player1_marker):\n",
    "                display_board(the_board)\n",
    "                print('Player 1 Has Won!')\n",
    "                game_on = False\n",
    "                \n",
    "            else:\n",
    "                if full_board_check(the_board):\n",
    "                    display_board(the_board)\n",
    "                    print(\"Tie GAME!\")\n",
    "                    game_on = False\n",
    "                else:\n",
    "                    turn = 'Player 2'\n",
    "                    \n",
    "           # Player 2 turn         \n",
    "        else:\n",
    "            # Show the board\n",
    "            display_board(the_board)\n",
    "            # choose a position\n",
    "            position = player_choice(the_board)\n",
    "            # place_marker on the position\n",
    "            place_marker(the_board,player2_marker,position)\n",
    "            \n",
    "            # check if they won\n",
    "            if win_check(the_board,player2_marker):\n",
    "                display_board(the_board)\n",
    "                print('Player 2 Has Won!')\n",
    "                game_on = False\n",
    "                \n",
    "            else:\n",
    "                if full_board_check(the_board):\n",
    "                    display_board(the_board)\n",
    "                    print(\"Tie GAME!\")\n",
    "                    game_on = False\n",
    "                else:\n",
    "                    turn = 'Player 1'\n",
    "    \n",
    "    \n",
    "    \n",
    "    \n",
    "    if not replay():\n",
    "        break\n",
    "\n",
    "\n",
    "\n",
    "#break out of the while loop on replay()"
   ]
  },
  {
   "cell_type": "markdown",
   "id": "2c9620e2",
   "metadata": {},
   "source": []
  }
 ],
 "metadata": {
  "kernelspec": {
   "display_name": "Python 3",
   "language": "python",
   "name": "python3"
  },
  "language_info": {
   "codemirror_mode": {
    "name": "ipython",
    "version": 3
   },
   "file_extension": ".py",
   "mimetype": "text/x-python",
   "name": "python",
   "nbconvert_exporter": "python",
   "pygments_lexer": "ipython3",
   "version": "3.8.8"
  }
 },
 "nbformat": 4,
 "nbformat_minor": 5
}
